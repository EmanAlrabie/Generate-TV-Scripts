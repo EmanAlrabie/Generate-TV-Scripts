{
 "cells": [
  {
   "cell_type": "code",
   "execution_count": 4,
   "id": "b5a0a543",
   "metadata": {},
   "outputs": [
    {
     "name": "stdout",
     "output_type": "stream",
     "text": [
      "hello\n"
     ]
    }
   ],
   "source": [
    "print(\"hello\")"
   ]
  },
  {
   "cell_type": "markdown",
   "id": "c4b2832b",
   "metadata": {},
   "source": [
    "# hello\n",
    "## hello\n",
    "### hellllllo\n",
    "####  hello\n",
    "##### h\n",
    "###### 6\n",
    "\n"
   ]
  },
  {
   "cell_type": "markdown",
   "id": "70262b43",
   "metadata": {},
   "source": [
    "# linke\n",
    "[Udacity's home page](https://www.udacity.com)"
   ]
  },
  {
   "cell_type": "markdown",
   "id": "63520c6e",
   "metadata": {},
   "source": [
    "_gelato_ or *gelato*\n",
    "**aardvark** or __aardvark__\n",
    "\n",
    "# add code \n",
    "```\n",
    "print(\"hi\")\n",
    "```\n"
   ]
  },
  {
   "cell_type": "code",
   "execution_count": 11,
   "id": "56013b4b",
   "metadata": {},
   "outputs": [
    {
     "name": "stdout",
     "output_type": "stream",
     "text": [
      "Using matplotlib backend: Qt5Agg\n"
     ]
    }
   ],
   "source": [
    "%matplotlib\n",
    "# to work interactively in the notebook with"
   ]
  },
  {
   "cell_type": "code",
   "execution_count": 12,
   "id": "38c425e1",
   "metadata": {},
   "outputs": [],
   "source": [
    "%matplotlib inline\n",
    "%config InlineBackend.figure_format = 'retina'\n"
   ]
  },
  {
   "cell_type": "code",
   "execution_count": 13,
   "id": "651f3c3b",
   "metadata": {},
   "outputs": [
    {
     "name": "stdout",
     "output_type": "stream",
     "text": [
      "Automatic pdb calling has been turned ON\n"
     ]
    }
   ],
   "source": [
    "%pdb\n",
    "# turn on the interactive debugger"
   ]
  },
  {
   "cell_type": "markdown",
   "id": "b0a1b0ed",
   "metadata": {},
   "source": [
    "The general syntax to convert a given mynotebook.ipynb file to another FORMAT is:\n",
    "    jupyter nbconvert --to FORMAT fileName.ipynb\n",
    "FORMAT:\n",
    "    HTML,\n",
    "LaTeX,\n",
    "PDF,\n",
    "WebPDF,\n",
    "Reveal.js HTML slideshow,\n",
    "Markdown,\n",
    "Ascii,\n",
    "reStructuredText,\n",
    "executable script,\n",
    "notebook."
   ]
  },
  {
   "cell_type": "markdown",
   "id": "8d01a42f",
   "metadata": {},
   "source": [
    "Create slideshows from notebooks:\n",
    " In the menu bar, click View > Cell Toolbar > Slideshow to bring up the slide cell menu on each cell.\n",
    " \n",
    " -----\n",
    " Slides are full slides that you move through left to right. Sub-slides show up in the slideshow by pressing up or down. Fragments are hidden at first, then appear with a button press. You can skip cells in the slideshow with Skip and Notes leaves the cell as speaker notes.\n",
    "\n"
   ]
  }
 ],
 "metadata": {
  "kernelspec": {
   "display_name": "Python 3",
   "language": "python",
   "name": "python3"
  },
  "language_info": {
   "codemirror_mode": {
    "name": "ipython",
    "version": 3
   },
   "file_extension": ".py",
   "mimetype": "text/x-python",
   "name": "python",
   "nbconvert_exporter": "python",
   "pygments_lexer": "ipython3",
   "version": "3.8.10"
  }
 },
 "nbformat": 4,
 "nbformat_minor": 5
}
